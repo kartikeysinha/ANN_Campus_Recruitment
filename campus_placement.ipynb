{
  "nbformat": 4,
  "nbformat_minor": 0,
  "metadata": {
    "colab": {
      "name": "campus_placement.ipynb",
      "provenance": [],
      "toc_visible": true
    },
    "kernelspec": {
      "name": "python3",
      "display_name": "Python 3"
    }
  },
  "cells": [
    {
      "cell_type": "markdown",
      "metadata": {
        "id": "htyNPLbJrjzK",
        "colab_type": "text"
      },
      "source": [
        "#Data preprocessing"
      ]
    },
    {
      "cell_type": "markdown",
      "metadata": {
        "id": "HSO2ozC1rq3l",
        "colab_type": "text"
      },
      "source": [
        "##Importing libraries"
      ]
    },
    {
      "cell_type": "code",
      "metadata": {
        "id": "lJexmeKQqMVk",
        "colab_type": "code",
        "colab": {}
      },
      "source": [
        "import numpy as np\n",
        "import pandas as pd\n",
        "import matplotlib.pyplot as plt"
      ],
      "execution_count": 1,
      "outputs": []
    },
    {
      "cell_type": "markdown",
      "metadata": {
        "id": "2kTX3J41r2KT",
        "colab_type": "text"
      },
      "source": [
        "##Import Dataset\n",
        "\n"
      ]
    },
    {
      "cell_type": "code",
      "metadata": {
        "id": "YeLN8EG_r1Nl",
        "colab_type": "code",
        "colab": {}
      },
      "source": [
        "dataset = pd.read_csv('Placement.csv')"
      ],
      "execution_count": 2,
      "outputs": []
    },
    {
      "cell_type": "markdown",
      "metadata": {
        "id": "wV5PT7w2IqWf",
        "colab_type": "text"
      },
      "source": [
        "#Classification"
      ]
    },
    {
      "cell_type": "markdown",
      "metadata": {
        "id": "wm8uITNGIvAF",
        "colab_type": "text"
      },
      "source": [
        "##Split to Independant and Dependant variables"
      ]
    },
    {
      "cell_type": "code",
      "metadata": {
        "id": "PA4eR57MI1O1",
        "colab_type": "code",
        "colab": {}
      },
      "source": [
        "X = dataset.iloc[:, 1:-2]\n",
        "y_placed = dataset.iloc[:, -2].values"
      ],
      "execution_count": 3,
      "outputs": []
    },
    {
      "cell_type": "code",
      "metadata": {
        "id": "kyboNtjZxhxx",
        "colab_type": "code",
        "colab": {
          "base_uri": "https://localhost:8080/",
          "height": 419
        },
        "outputId": "094fadfd-d8c6-4f1a-a1dc-40bf41fe2b5c"
      },
      "source": [
        "X"
      ],
      "execution_count": 4,
      "outputs": [
        {
          "output_type": "execute_result",
          "data": {
            "text/html": [
              "<div>\n",
              "<style scoped>\n",
              "    .dataframe tbody tr th:only-of-type {\n",
              "        vertical-align: middle;\n",
              "    }\n",
              "\n",
              "    .dataframe tbody tr th {\n",
              "        vertical-align: top;\n",
              "    }\n",
              "\n",
              "    .dataframe thead th {\n",
              "        text-align: right;\n",
              "    }\n",
              "</style>\n",
              "<table border=\"1\" class=\"dataframe\">\n",
              "  <thead>\n",
              "    <tr style=\"text-align: right;\">\n",
              "      <th></th>\n",
              "      <th>gender</th>\n",
              "      <th>ssc_p</th>\n",
              "      <th>ssc_b</th>\n",
              "      <th>hsc_p</th>\n",
              "      <th>hsc_b</th>\n",
              "      <th>hsc_s</th>\n",
              "      <th>degree_p</th>\n",
              "      <th>degree_t</th>\n",
              "      <th>workex</th>\n",
              "      <th>etest_p</th>\n",
              "      <th>specialisation</th>\n",
              "      <th>mba_p</th>\n",
              "    </tr>\n",
              "  </thead>\n",
              "  <tbody>\n",
              "    <tr>\n",
              "      <th>0</th>\n",
              "      <td>M</td>\n",
              "      <td>67.00</td>\n",
              "      <td>Others</td>\n",
              "      <td>91.00</td>\n",
              "      <td>Others</td>\n",
              "      <td>Commerce</td>\n",
              "      <td>58.00</td>\n",
              "      <td>Sci&amp;Tech</td>\n",
              "      <td>No</td>\n",
              "      <td>55.0</td>\n",
              "      <td>Mkt&amp;HR</td>\n",
              "      <td>58.80</td>\n",
              "    </tr>\n",
              "    <tr>\n",
              "      <th>1</th>\n",
              "      <td>M</td>\n",
              "      <td>79.33</td>\n",
              "      <td>Central</td>\n",
              "      <td>78.33</td>\n",
              "      <td>Others</td>\n",
              "      <td>Science</td>\n",
              "      <td>77.48</td>\n",
              "      <td>Sci&amp;Tech</td>\n",
              "      <td>Yes</td>\n",
              "      <td>86.5</td>\n",
              "      <td>Mkt&amp;Fin</td>\n",
              "      <td>66.28</td>\n",
              "    </tr>\n",
              "    <tr>\n",
              "      <th>2</th>\n",
              "      <td>M</td>\n",
              "      <td>65.00</td>\n",
              "      <td>Central</td>\n",
              "      <td>68.00</td>\n",
              "      <td>Central</td>\n",
              "      <td>Arts</td>\n",
              "      <td>64.00</td>\n",
              "      <td>Comm&amp;Mgmt</td>\n",
              "      <td>No</td>\n",
              "      <td>75.0</td>\n",
              "      <td>Mkt&amp;Fin</td>\n",
              "      <td>57.80</td>\n",
              "    </tr>\n",
              "    <tr>\n",
              "      <th>3</th>\n",
              "      <td>M</td>\n",
              "      <td>56.00</td>\n",
              "      <td>Central</td>\n",
              "      <td>52.00</td>\n",
              "      <td>Central</td>\n",
              "      <td>Science</td>\n",
              "      <td>52.00</td>\n",
              "      <td>Sci&amp;Tech</td>\n",
              "      <td>No</td>\n",
              "      <td>66.0</td>\n",
              "      <td>Mkt&amp;HR</td>\n",
              "      <td>59.43</td>\n",
              "    </tr>\n",
              "    <tr>\n",
              "      <th>4</th>\n",
              "      <td>M</td>\n",
              "      <td>85.80</td>\n",
              "      <td>Central</td>\n",
              "      <td>73.60</td>\n",
              "      <td>Central</td>\n",
              "      <td>Commerce</td>\n",
              "      <td>73.30</td>\n",
              "      <td>Comm&amp;Mgmt</td>\n",
              "      <td>No</td>\n",
              "      <td>96.8</td>\n",
              "      <td>Mkt&amp;Fin</td>\n",
              "      <td>55.50</td>\n",
              "    </tr>\n",
              "    <tr>\n",
              "      <th>...</th>\n",
              "      <td>...</td>\n",
              "      <td>...</td>\n",
              "      <td>...</td>\n",
              "      <td>...</td>\n",
              "      <td>...</td>\n",
              "      <td>...</td>\n",
              "      <td>...</td>\n",
              "      <td>...</td>\n",
              "      <td>...</td>\n",
              "      <td>...</td>\n",
              "      <td>...</td>\n",
              "      <td>...</td>\n",
              "    </tr>\n",
              "    <tr>\n",
              "      <th>210</th>\n",
              "      <td>M</td>\n",
              "      <td>80.60</td>\n",
              "      <td>Others</td>\n",
              "      <td>82.00</td>\n",
              "      <td>Others</td>\n",
              "      <td>Commerce</td>\n",
              "      <td>77.60</td>\n",
              "      <td>Comm&amp;Mgmt</td>\n",
              "      <td>No</td>\n",
              "      <td>91.0</td>\n",
              "      <td>Mkt&amp;Fin</td>\n",
              "      <td>74.49</td>\n",
              "    </tr>\n",
              "    <tr>\n",
              "      <th>211</th>\n",
              "      <td>M</td>\n",
              "      <td>58.00</td>\n",
              "      <td>Others</td>\n",
              "      <td>60.00</td>\n",
              "      <td>Others</td>\n",
              "      <td>Science</td>\n",
              "      <td>72.00</td>\n",
              "      <td>Sci&amp;Tech</td>\n",
              "      <td>No</td>\n",
              "      <td>74.0</td>\n",
              "      <td>Mkt&amp;Fin</td>\n",
              "      <td>53.62</td>\n",
              "    </tr>\n",
              "    <tr>\n",
              "      <th>212</th>\n",
              "      <td>M</td>\n",
              "      <td>67.00</td>\n",
              "      <td>Others</td>\n",
              "      <td>67.00</td>\n",
              "      <td>Others</td>\n",
              "      <td>Commerce</td>\n",
              "      <td>73.00</td>\n",
              "      <td>Comm&amp;Mgmt</td>\n",
              "      <td>Yes</td>\n",
              "      <td>59.0</td>\n",
              "      <td>Mkt&amp;Fin</td>\n",
              "      <td>69.72</td>\n",
              "    </tr>\n",
              "    <tr>\n",
              "      <th>213</th>\n",
              "      <td>F</td>\n",
              "      <td>74.00</td>\n",
              "      <td>Others</td>\n",
              "      <td>66.00</td>\n",
              "      <td>Others</td>\n",
              "      <td>Commerce</td>\n",
              "      <td>58.00</td>\n",
              "      <td>Comm&amp;Mgmt</td>\n",
              "      <td>No</td>\n",
              "      <td>70.0</td>\n",
              "      <td>Mkt&amp;HR</td>\n",
              "      <td>60.23</td>\n",
              "    </tr>\n",
              "    <tr>\n",
              "      <th>214</th>\n",
              "      <td>M</td>\n",
              "      <td>62.00</td>\n",
              "      <td>Central</td>\n",
              "      <td>58.00</td>\n",
              "      <td>Others</td>\n",
              "      <td>Science</td>\n",
              "      <td>53.00</td>\n",
              "      <td>Comm&amp;Mgmt</td>\n",
              "      <td>No</td>\n",
              "      <td>89.0</td>\n",
              "      <td>Mkt&amp;HR</td>\n",
              "      <td>60.22</td>\n",
              "    </tr>\n",
              "  </tbody>\n",
              "</table>\n",
              "<p>215 rows × 12 columns</p>\n",
              "</div>"
            ],
            "text/plain": [
              "    gender  ssc_p    ssc_b  hsc_p  ... workex etest_p  specialisation  mba_p\n",
              "0        M  67.00   Others  91.00  ...     No    55.0          Mkt&HR  58.80\n",
              "1        M  79.33  Central  78.33  ...    Yes    86.5         Mkt&Fin  66.28\n",
              "2        M  65.00  Central  68.00  ...     No    75.0         Mkt&Fin  57.80\n",
              "3        M  56.00  Central  52.00  ...     No    66.0          Mkt&HR  59.43\n",
              "4        M  85.80  Central  73.60  ...     No    96.8         Mkt&Fin  55.50\n",
              "..     ...    ...      ...    ...  ...    ...     ...             ...    ...\n",
              "210      M  80.60   Others  82.00  ...     No    91.0         Mkt&Fin  74.49\n",
              "211      M  58.00   Others  60.00  ...     No    74.0         Mkt&Fin  53.62\n",
              "212      M  67.00   Others  67.00  ...    Yes    59.0         Mkt&Fin  69.72\n",
              "213      F  74.00   Others  66.00  ...     No    70.0          Mkt&HR  60.23\n",
              "214      M  62.00  Central  58.00  ...     No    89.0          Mkt&HR  60.22\n",
              "\n",
              "[215 rows x 12 columns]"
            ]
          },
          "metadata": {
            "tags": []
          },
          "execution_count": 4
        }
      ]
    },
    {
      "cell_type": "code",
      "metadata": {
        "id": "DZaPCl5uxh_a",
        "colab_type": "code",
        "colab": {
          "base_uri": "https://localhost:8080/",
          "height": 238
        },
        "outputId": "68a069fc-2722-4104-cff2-dae53e5a2382"
      },
      "source": [
        "X.dtypes"
      ],
      "execution_count": 5,
      "outputs": [
        {
          "output_type": "execute_result",
          "data": {
            "text/plain": [
              "gender             object\n",
              "ssc_p             float64\n",
              "ssc_b              object\n",
              "hsc_p             float64\n",
              "hsc_b              object\n",
              "hsc_s              object\n",
              "degree_p          float64\n",
              "degree_t           object\n",
              "workex             object\n",
              "etest_p           float64\n",
              "specialisation     object\n",
              "mba_p             float64\n",
              "dtype: object"
            ]
          },
          "metadata": {
            "tags": []
          },
          "execution_count": 5
        }
      ]
    },
    {
      "cell_type": "markdown",
      "metadata": {
        "id": "gvOV0IApsi0w",
        "colab_type": "text"
      },
      "source": [
        "##Encoding categorical data"
      ]
    },
    {
      "cell_type": "markdown",
      "metadata": {
        "id": "-JZ5bPOb9Qjq",
        "colab_type": "text"
      },
      "source": [
        "###encoding independent variable"
      ]
    },
    {
      "cell_type": "code",
      "metadata": {
        "id": "DCsj4wzStNOT",
        "colab_type": "code",
        "colab": {}
      },
      "source": [
        "from sklearn.preprocessing import StandardScaler, OneHotEncoder\n",
        "from sklearn.compose import make_column_transformer\n",
        "from sklearn.compose import make_column_selector\n",
        "ct = make_column_transformer(\n",
        "    (StandardScaler(), make_column_selector(dtype_include=np.number)),\n",
        "    (OneHotEncoder(), make_column_selector(dtype_include=object))\n",
        ")\n",
        "\n",
        "X = (ct.fit_transform(X))\n",
        "X = np.array(X)"
      ],
      "execution_count": 6,
      "outputs": []
    },
    {
      "cell_type": "code",
      "metadata": {
        "id": "Yw5CwdQLzQ8S",
        "colab_type": "code",
        "colab": {
          "base_uri": "https://localhost:8080/",
          "height": 34
        },
        "outputId": "c5019b9c-f8e6-4cee-869f-0ac6d67610fa"
      },
      "source": [
        "len(X[0])"
      ],
      "execution_count": 7,
      "outputs": [
        {
          "output_type": "execute_result",
          "data": {
            "text/plain": [
              "21"
            ]
          },
          "metadata": {
            "tags": []
          },
          "execution_count": 7
        }
      ]
    },
    {
      "cell_type": "markdown",
      "metadata": {
        "id": "nCLm_j2-9U6k",
        "colab_type": "text"
      },
      "source": [
        "###encoding dependent variable (y_placed)"
      ]
    },
    {
      "cell_type": "code",
      "metadata": {
        "id": "riRDTUa_9Yqo",
        "colab_type": "code",
        "colab": {}
      },
      "source": [
        "from sklearn.preprocessing import LabelEncoder\n",
        "le = LabelEncoder()\n",
        "y_placed = le.fit_transform(y_placed)"
      ],
      "execution_count": 8,
      "outputs": []
    },
    {
      "cell_type": "code",
      "metadata": {
        "id": "MlqoE3Mk9vUu",
        "colab_type": "code",
        "colab": {
          "base_uri": "https://localhost:8080/",
          "height": 187
        },
        "outputId": "a6131925-593f-4cd3-957c-68fe2d53d87f"
      },
      "source": [
        "y_placed"
      ],
      "execution_count": 9,
      "outputs": [
        {
          "output_type": "execute_result",
          "data": {
            "text/plain": [
              "array([1, 1, 1, 0, 1, 0, 0, 1, 1, 0, 1, 1, 0, 1, 0, 1, 1, 0, 0, 1, 1, 1,\n",
              "       1, 1, 1, 0, 1, 1, 1, 0, 1, 0, 1, 1, 0, 1, 0, 1, 1, 1, 1, 0, 0, 1,\n",
              "       1, 0, 0, 1, 1, 0, 1, 0, 0, 1, 1, 1, 1, 1, 1, 1, 1, 1, 1, 0, 1, 0,\n",
              "       1, 1, 0, 1, 1, 1, 1, 1, 1, 0, 1, 1, 1, 0, 1, 1, 0, 1, 1, 1, 1, 0,\n",
              "       1, 1, 1, 0, 1, 0, 1, 1, 1, 0, 1, 0, 0, 1, 1, 1, 1, 0, 0, 1, 1, 0,\n",
              "       1, 0, 1, 1, 1, 1, 1, 1, 1, 1, 0, 1, 1, 1, 1, 1, 1, 1, 1, 1, 0, 1,\n",
              "       1, 1, 1, 1, 0, 1, 1, 1, 1, 0, 1, 1, 0, 1, 1, 1, 1, 0, 1, 1, 1, 1,\n",
              "       1, 0, 1, 1, 0, 0, 1, 0, 1, 1, 1, 0, 1, 0, 0, 0, 0, 1, 1, 0, 1, 0,\n",
              "       1, 1, 1, 0, 1, 0, 0, 1, 0, 1, 0, 1, 0, 0, 0, 1, 1, 1, 0, 1, 1, 1,\n",
              "       0, 1, 1, 0, 1, 1, 1, 1, 0, 1, 0, 1, 1, 1, 1, 1, 0])"
            ]
          },
          "metadata": {
            "tags": []
          },
          "execution_count": 9
        }
      ]
    },
    {
      "cell_type": "markdown",
      "metadata": {
        "id": "rDtp1GiG6GfA",
        "colab_type": "text"
      },
      "source": [
        "##Split train and test set\n",
        "\n",
        "```\n",
        "# This is formatted as code\n",
        "```\n",
        "\n"
      ]
    },
    {
      "cell_type": "code",
      "metadata": {
        "id": "eDU4NhgN6Jac",
        "colab_type": "code",
        "colab": {}
      },
      "source": [
        "from sklearn.model_selection import train_test_split\n",
        "X_placed_train, X_placed_test, y_placed_train, y_placed_test = train_test_split(X, y_placed, test_size = 0.25)"
      ],
      "execution_count": 10,
      "outputs": []
    },
    {
      "cell_type": "markdown",
      "metadata": {
        "id": "nY9462wf6o6J",
        "colab_type": "text"
      },
      "source": [
        "##Build ANN for classification"
      ]
    },
    {
      "cell_type": "code",
      "metadata": {
        "id": "6NSFZXmg_Mjn",
        "colab_type": "code",
        "colab": {}
      },
      "source": [
        "import tensorflow as tf\n",
        "ann = tf.keras.models.Sequential()\n",
        "ann.add(tf.keras.layers.Dense(units = 5, activation = 'relu'))\n",
        "ann.add(tf.keras.layers.Dense(units = 5, activation = 'relu'))\n",
        "ann.add(tf.keras.layers.Dense(units = 1, activation = 'sigmoid'))"
      ],
      "execution_count": 11,
      "outputs": []
    },
    {
      "cell_type": "markdown",
      "metadata": {
        "id": "Hkn8y173_EZh",
        "colab_type": "text"
      },
      "source": [
        "##Train the ANN"
      ]
    },
    {
      "cell_type": "markdown",
      "metadata": {
        "id": "81ByUj7z_2k9",
        "colab_type": "text"
      },
      "source": [
        "###Compile the ANN"
      ]
    },
    {
      "cell_type": "code",
      "metadata": {
        "id": "Um4DZc4s_xuL",
        "colab_type": "code",
        "colab": {}
      },
      "source": [
        "ann.compile(optimizer='adam',\n",
        "            loss = 'binary_crossentropy',\n",
        "            metrics = ['accuracy'])"
      ],
      "execution_count": 12,
      "outputs": []
    },
    {
      "cell_type": "markdown",
      "metadata": {
        "id": "5uIa0wxH_7Sy",
        "colab_type": "text"
      },
      "source": [
        "###Train the ANN on training set"
      ]
    },
    {
      "cell_type": "code",
      "metadata": {
        "id": "d2Isf_fl_6pQ",
        "colab_type": "code",
        "colab": {
          "base_uri": "https://localhost:8080/",
          "height": 1000
        },
        "outputId": "81ac9ea1-09e9-4083-f048-7038f065e556"
      },
      "source": [
        "ann.fit(X_placed_train, y_placed_train, batch_size = 8, epochs = 75)"
      ],
      "execution_count": 13,
      "outputs": [
        {
          "output_type": "stream",
          "text": [
            "Epoch 1/75\n",
            "21/21 [==============================] - 0s 1ms/step - loss: 0.6812 - accuracy: 0.6584\n",
            "Epoch 2/75\n",
            "21/21 [==============================] - 0s 1ms/step - loss: 0.6627 - accuracy: 0.7143\n",
            "Epoch 3/75\n",
            "21/21 [==============================] - 0s 1ms/step - loss: 0.6454 - accuracy: 0.7205\n",
            "Epoch 4/75\n",
            "21/21 [==============================] - 0s 1ms/step - loss: 0.6259 - accuracy: 0.6894\n",
            "Epoch 5/75\n",
            "21/21 [==============================] - 0s 1ms/step - loss: 0.6078 - accuracy: 0.6894\n",
            "Epoch 6/75\n",
            "21/21 [==============================] - 0s 1ms/step - loss: 0.5894 - accuracy: 0.6832\n",
            "Epoch 7/75\n",
            "21/21 [==============================] - 0s 1ms/step - loss: 0.5712 - accuracy: 0.6832\n",
            "Epoch 8/75\n",
            "21/21 [==============================] - 0s 1ms/step - loss: 0.5539 - accuracy: 0.6832\n",
            "Epoch 9/75\n",
            "21/21 [==============================] - 0s 1ms/step - loss: 0.5368 - accuracy: 0.6832\n",
            "Epoch 10/75\n",
            "21/21 [==============================] - 0s 1ms/step - loss: 0.5201 - accuracy: 0.6832\n",
            "Epoch 11/75\n",
            "21/21 [==============================] - 0s 1ms/step - loss: 0.5044 - accuracy: 0.7329\n",
            "Epoch 12/75\n",
            "21/21 [==============================] - 0s 1ms/step - loss: 0.4902 - accuracy: 0.7329\n",
            "Epoch 13/75\n",
            "21/21 [==============================] - 0s 1ms/step - loss: 0.4759 - accuracy: 0.7640\n",
            "Epoch 14/75\n",
            "21/21 [==============================] - 0s 1ms/step - loss: 0.4632 - accuracy: 0.7826\n",
            "Epoch 15/75\n",
            "21/21 [==============================] - 0s 1ms/step - loss: 0.4485 - accuracy: 0.8012\n",
            "Epoch 16/75\n",
            "21/21 [==============================] - 0s 1ms/step - loss: 0.4337 - accuracy: 0.8261\n",
            "Epoch 17/75\n",
            "21/21 [==============================] - 0s 1ms/step - loss: 0.4198 - accuracy: 0.8447\n",
            "Epoch 18/75\n",
            "21/21 [==============================] - 0s 1ms/step - loss: 0.4070 - accuracy: 0.8509\n",
            "Epoch 19/75\n",
            "21/21 [==============================] - 0s 1ms/step - loss: 0.3947 - accuracy: 0.8571\n",
            "Epoch 20/75\n",
            "21/21 [==============================] - 0s 1ms/step - loss: 0.3831 - accuracy: 0.8634\n",
            "Epoch 21/75\n",
            "21/21 [==============================] - 0s 1ms/step - loss: 0.3733 - accuracy: 0.8634\n",
            "Epoch 22/75\n",
            "21/21 [==============================] - 0s 1ms/step - loss: 0.3626 - accuracy: 0.8758\n",
            "Epoch 23/75\n",
            "21/21 [==============================] - 0s 1ms/step - loss: 0.3526 - accuracy: 0.8820\n",
            "Epoch 24/75\n",
            "21/21 [==============================] - 0s 1ms/step - loss: 0.3411 - accuracy: 0.8820\n",
            "Epoch 25/75\n",
            "21/21 [==============================] - 0s 1ms/step - loss: 0.3340 - accuracy: 0.8944\n",
            "Epoch 26/75\n",
            "21/21 [==============================] - 0s 1ms/step - loss: 0.3270 - accuracy: 0.8882\n",
            "Epoch 27/75\n",
            "21/21 [==============================] - 0s 1ms/step - loss: 0.3192 - accuracy: 0.8944\n",
            "Epoch 28/75\n",
            "21/21 [==============================] - 0s 2ms/step - loss: 0.3122 - accuracy: 0.8882\n",
            "Epoch 29/75\n",
            "21/21 [==============================] - 0s 1ms/step - loss: 0.3063 - accuracy: 0.9006\n",
            "Epoch 30/75\n",
            "21/21 [==============================] - 0s 1ms/step - loss: 0.3000 - accuracy: 0.8944\n",
            "Epoch 31/75\n",
            "21/21 [==============================] - 0s 1ms/step - loss: 0.2948 - accuracy: 0.9006\n",
            "Epoch 32/75\n",
            "21/21 [==============================] - 0s 1ms/step - loss: 0.2894 - accuracy: 0.9006\n",
            "Epoch 33/75\n",
            "21/21 [==============================] - 0s 1ms/step - loss: 0.2845 - accuracy: 0.8944\n",
            "Epoch 34/75\n",
            "21/21 [==============================] - 0s 1ms/step - loss: 0.2808 - accuracy: 0.8944\n",
            "Epoch 35/75\n",
            "21/21 [==============================] - 0s 1ms/step - loss: 0.2764 - accuracy: 0.8944\n",
            "Epoch 36/75\n",
            "21/21 [==============================] - 0s 1ms/step - loss: 0.2729 - accuracy: 0.8944\n",
            "Epoch 37/75\n",
            "21/21 [==============================] - 0s 1ms/step - loss: 0.2691 - accuracy: 0.8944\n",
            "Epoch 38/75\n",
            "21/21 [==============================] - 0s 1ms/step - loss: 0.2653 - accuracy: 0.9006\n",
            "Epoch 39/75\n",
            "21/21 [==============================] - 0s 1ms/step - loss: 0.2620 - accuracy: 0.8944\n",
            "Epoch 40/75\n",
            "21/21 [==============================] - 0s 1ms/step - loss: 0.2587 - accuracy: 0.8882\n",
            "Epoch 41/75\n",
            "21/21 [==============================] - 0s 1ms/step - loss: 0.2562 - accuracy: 0.8882\n",
            "Epoch 42/75\n",
            "21/21 [==============================] - 0s 2ms/step - loss: 0.2537 - accuracy: 0.9006\n",
            "Epoch 43/75\n",
            "21/21 [==============================] - 0s 1ms/step - loss: 0.2520 - accuracy: 0.9068\n",
            "Epoch 44/75\n",
            "21/21 [==============================] - 0s 1ms/step - loss: 0.2484 - accuracy: 0.9130\n",
            "Epoch 45/75\n",
            "21/21 [==============================] - 0s 1ms/step - loss: 0.2459 - accuracy: 0.9068\n",
            "Epoch 46/75\n",
            "21/21 [==============================] - 0s 1ms/step - loss: 0.2450 - accuracy: 0.9006\n",
            "Epoch 47/75\n",
            "21/21 [==============================] - 0s 1ms/step - loss: 0.2421 - accuracy: 0.9068\n",
            "Epoch 48/75\n",
            "21/21 [==============================] - 0s 1ms/step - loss: 0.2401 - accuracy: 0.9068\n",
            "Epoch 49/75\n",
            "21/21 [==============================] - 0s 1ms/step - loss: 0.2372 - accuracy: 0.9130\n",
            "Epoch 50/75\n",
            "21/21 [==============================] - 0s 1ms/step - loss: 0.2352 - accuracy: 0.9193\n",
            "Epoch 51/75\n",
            "21/21 [==============================] - 0s 1ms/step - loss: 0.2328 - accuracy: 0.9193\n",
            "Epoch 52/75\n",
            "21/21 [==============================] - 0s 1ms/step - loss: 0.2313 - accuracy: 0.9193\n",
            "Epoch 53/75\n",
            "21/21 [==============================] - 0s 1ms/step - loss: 0.2292 - accuracy: 0.9193\n",
            "Epoch 54/75\n",
            "21/21 [==============================] - 0s 1ms/step - loss: 0.2284 - accuracy: 0.9255\n",
            "Epoch 55/75\n",
            "21/21 [==============================] - 0s 1ms/step - loss: 0.2256 - accuracy: 0.9193\n",
            "Epoch 56/75\n",
            "21/21 [==============================] - 0s 1ms/step - loss: 0.2242 - accuracy: 0.9193\n",
            "Epoch 57/75\n",
            "21/21 [==============================] - 0s 1ms/step - loss: 0.2228 - accuracy: 0.9255\n",
            "Epoch 58/75\n",
            "21/21 [==============================] - 0s 1ms/step - loss: 0.2218 - accuracy: 0.9193\n",
            "Epoch 59/75\n",
            "21/21 [==============================] - 0s 1ms/step - loss: 0.2214 - accuracy: 0.9193\n",
            "Epoch 60/75\n",
            "21/21 [==============================] - 0s 1ms/step - loss: 0.2188 - accuracy: 0.9255\n",
            "Epoch 61/75\n",
            "21/21 [==============================] - 0s 1ms/step - loss: 0.2174 - accuracy: 0.9255\n",
            "Epoch 62/75\n",
            "21/21 [==============================] - 0s 1ms/step - loss: 0.2166 - accuracy: 0.9193\n",
            "Epoch 63/75\n",
            "21/21 [==============================] - 0s 1ms/step - loss: 0.2144 - accuracy: 0.9255\n",
            "Epoch 64/75\n",
            "21/21 [==============================] - 0s 1ms/step - loss: 0.2131 - accuracy: 0.9255\n",
            "Epoch 65/75\n",
            "21/21 [==============================] - 0s 1ms/step - loss: 0.2116 - accuracy: 0.9255\n",
            "Epoch 66/75\n",
            "21/21 [==============================] - 0s 1ms/step - loss: 0.2108 - accuracy: 0.9255\n",
            "Epoch 67/75\n",
            "21/21 [==============================] - 0s 1ms/step - loss: 0.2097 - accuracy: 0.9255\n",
            "Epoch 68/75\n",
            "21/21 [==============================] - 0s 1ms/step - loss: 0.2080 - accuracy: 0.9255\n",
            "Epoch 69/75\n",
            "21/21 [==============================] - 0s 1ms/step - loss: 0.2072 - accuracy: 0.9255\n",
            "Epoch 70/75\n",
            "21/21 [==============================] - 0s 1ms/step - loss: 0.2055 - accuracy: 0.9193\n",
            "Epoch 71/75\n",
            "21/21 [==============================] - 0s 1ms/step - loss: 0.2036 - accuracy: 0.9193\n",
            "Epoch 72/75\n",
            "21/21 [==============================] - 0s 1ms/step - loss: 0.2040 - accuracy: 0.9255\n",
            "Epoch 73/75\n",
            "21/21 [==============================] - 0s 1ms/step - loss: 0.2027 - accuracy: 0.9317\n",
            "Epoch 74/75\n",
            "21/21 [==============================] - 0s 1ms/step - loss: 0.2012 - accuracy: 0.9255\n",
            "Epoch 75/75\n",
            "21/21 [==============================] - 0s 1ms/step - loss: 0.1999 - accuracy: 0.9255\n"
          ],
          "name": "stdout"
        },
        {
          "output_type": "execute_result",
          "data": {
            "text/plain": [
              "<tensorflow.python.keras.callbacks.History at 0x7f523c4b3080>"
            ]
          },
          "metadata": {
            "tags": []
          },
          "execution_count": 13
        }
      ]
    },
    {
      "cell_type": "markdown",
      "metadata": {
        "id": "9HA4hUwP_Epf",
        "colab_type": "text"
      },
      "source": [
        "##Making prediction and evaluating the model (Classification)"
      ]
    },
    {
      "cell_type": "markdown",
      "metadata": {
        "id": "q1OXr1kU_E25",
        "colab_type": "text"
      },
      "source": [
        "###Predict the test set"
      ]
    },
    {
      "cell_type": "code",
      "metadata": {
        "id": "XJNjIDszBUtF",
        "colab_type": "code",
        "colab": {}
      },
      "source": [
        "y_placed_pred = ann.predict(X_placed_test)\n",
        "y_placed_pred = (y_placed_pred > 0.5)"
      ],
      "execution_count": 14,
      "outputs": []
    },
    {
      "cell_type": "markdown",
      "metadata": {
        "id": "sMtTBVzy_E_Z",
        "colab_type": "text"
      },
      "source": [
        "### Make the confusion matrix"
      ]
    },
    {
      "cell_type": "code",
      "metadata": {
        "id": "xtoEi333Bgqj",
        "colab_type": "code",
        "colab": {
          "base_uri": "https://localhost:8080/",
          "height": 68
        },
        "outputId": "6d1a3259-9f8d-40fc-e953-f9e405739a91"
      },
      "source": [
        "from sklearn.metrics import confusion_matrix, accuracy_score\n",
        "cm = confusion_matrix(y_placed_test, y_placed_pred)\n",
        "print(cm)\n",
        "accuracy_score(y_placed_test, y_placed_pred)"
      ],
      "execution_count": 15,
      "outputs": [
        {
          "output_type": "stream",
          "text": [
            "[[10  5]\n",
            " [ 5 34]]\n"
          ],
          "name": "stdout"
        },
        {
          "output_type": "execute_result",
          "data": {
            "text/plain": [
              "0.8148148148148148"
            ]
          },
          "metadata": {
            "tags": []
          },
          "execution_count": 15
        }
      ]
    },
    {
      "cell_type": "markdown",
      "metadata": {
        "id": "7MCyib8DDlpQ",
        "colab_type": "text"
      },
      "source": [
        "#Regression"
      ]
    },
    {
      "cell_type": "markdown",
      "metadata": {
        "id": "_taeYbHEEIrS",
        "colab_type": "text"
      },
      "source": [
        "##Remove people with no placements"
      ]
    },
    {
      "cell_type": "code",
      "metadata": {
        "id": "xFK27qUNDhu_",
        "colab_type": "code",
        "colab": {}
      },
      "source": [
        "dataset_salary = dataset.dropna()"
      ],
      "execution_count": 16,
      "outputs": []
    },
    {
      "cell_type": "code",
      "metadata": {
        "id": "7Zee7UWOOG7w",
        "colab_type": "code",
        "colab": {
          "base_uri": "https://localhost:8080/",
          "height": 439
        },
        "outputId": "1483b5d8-5140-4446-9920-2abe4b46dae5"
      },
      "source": [
        "dataset_salary"
      ],
      "execution_count": 17,
      "outputs": [
        {
          "output_type": "execute_result",
          "data": {
            "text/html": [
              "<div>\n",
              "<style scoped>\n",
              "    .dataframe tbody tr th:only-of-type {\n",
              "        vertical-align: middle;\n",
              "    }\n",
              "\n",
              "    .dataframe tbody tr th {\n",
              "        vertical-align: top;\n",
              "    }\n",
              "\n",
              "    .dataframe thead th {\n",
              "        text-align: right;\n",
              "    }\n",
              "</style>\n",
              "<table border=\"1\" class=\"dataframe\">\n",
              "  <thead>\n",
              "    <tr style=\"text-align: right;\">\n",
              "      <th></th>\n",
              "      <th>sl_no</th>\n",
              "      <th>gender</th>\n",
              "      <th>ssc_p</th>\n",
              "      <th>ssc_b</th>\n",
              "      <th>hsc_p</th>\n",
              "      <th>hsc_b</th>\n",
              "      <th>hsc_s</th>\n",
              "      <th>degree_p</th>\n",
              "      <th>degree_t</th>\n",
              "      <th>workex</th>\n",
              "      <th>etest_p</th>\n",
              "      <th>specialisation</th>\n",
              "      <th>mba_p</th>\n",
              "      <th>status</th>\n",
              "      <th>salary</th>\n",
              "    </tr>\n",
              "  </thead>\n",
              "  <tbody>\n",
              "    <tr>\n",
              "      <th>0</th>\n",
              "      <td>1</td>\n",
              "      <td>M</td>\n",
              "      <td>67.00</td>\n",
              "      <td>Others</td>\n",
              "      <td>91.00</td>\n",
              "      <td>Others</td>\n",
              "      <td>Commerce</td>\n",
              "      <td>58.00</td>\n",
              "      <td>Sci&amp;Tech</td>\n",
              "      <td>No</td>\n",
              "      <td>55.0</td>\n",
              "      <td>Mkt&amp;HR</td>\n",
              "      <td>58.80</td>\n",
              "      <td>Placed</td>\n",
              "      <td>270000.0</td>\n",
              "    </tr>\n",
              "    <tr>\n",
              "      <th>1</th>\n",
              "      <td>2</td>\n",
              "      <td>M</td>\n",
              "      <td>79.33</td>\n",
              "      <td>Central</td>\n",
              "      <td>78.33</td>\n",
              "      <td>Others</td>\n",
              "      <td>Science</td>\n",
              "      <td>77.48</td>\n",
              "      <td>Sci&amp;Tech</td>\n",
              "      <td>Yes</td>\n",
              "      <td>86.5</td>\n",
              "      <td>Mkt&amp;Fin</td>\n",
              "      <td>66.28</td>\n",
              "      <td>Placed</td>\n",
              "      <td>200000.0</td>\n",
              "    </tr>\n",
              "    <tr>\n",
              "      <th>2</th>\n",
              "      <td>3</td>\n",
              "      <td>M</td>\n",
              "      <td>65.00</td>\n",
              "      <td>Central</td>\n",
              "      <td>68.00</td>\n",
              "      <td>Central</td>\n",
              "      <td>Arts</td>\n",
              "      <td>64.00</td>\n",
              "      <td>Comm&amp;Mgmt</td>\n",
              "      <td>No</td>\n",
              "      <td>75.0</td>\n",
              "      <td>Mkt&amp;Fin</td>\n",
              "      <td>57.80</td>\n",
              "      <td>Placed</td>\n",
              "      <td>250000.0</td>\n",
              "    </tr>\n",
              "    <tr>\n",
              "      <th>4</th>\n",
              "      <td>5</td>\n",
              "      <td>M</td>\n",
              "      <td>85.80</td>\n",
              "      <td>Central</td>\n",
              "      <td>73.60</td>\n",
              "      <td>Central</td>\n",
              "      <td>Commerce</td>\n",
              "      <td>73.30</td>\n",
              "      <td>Comm&amp;Mgmt</td>\n",
              "      <td>No</td>\n",
              "      <td>96.8</td>\n",
              "      <td>Mkt&amp;Fin</td>\n",
              "      <td>55.50</td>\n",
              "      <td>Placed</td>\n",
              "      <td>425000.0</td>\n",
              "    </tr>\n",
              "    <tr>\n",
              "      <th>7</th>\n",
              "      <td>8</td>\n",
              "      <td>M</td>\n",
              "      <td>82.00</td>\n",
              "      <td>Central</td>\n",
              "      <td>64.00</td>\n",
              "      <td>Central</td>\n",
              "      <td>Science</td>\n",
              "      <td>66.00</td>\n",
              "      <td>Sci&amp;Tech</td>\n",
              "      <td>Yes</td>\n",
              "      <td>67.0</td>\n",
              "      <td>Mkt&amp;Fin</td>\n",
              "      <td>62.14</td>\n",
              "      <td>Placed</td>\n",
              "      <td>252000.0</td>\n",
              "    </tr>\n",
              "    <tr>\n",
              "      <th>...</th>\n",
              "      <td>...</td>\n",
              "      <td>...</td>\n",
              "      <td>...</td>\n",
              "      <td>...</td>\n",
              "      <td>...</td>\n",
              "      <td>...</td>\n",
              "      <td>...</td>\n",
              "      <td>...</td>\n",
              "      <td>...</td>\n",
              "      <td>...</td>\n",
              "      <td>...</td>\n",
              "      <td>...</td>\n",
              "      <td>...</td>\n",
              "      <td>...</td>\n",
              "      <td>...</td>\n",
              "    </tr>\n",
              "    <tr>\n",
              "      <th>209</th>\n",
              "      <td>210</td>\n",
              "      <td>M</td>\n",
              "      <td>62.00</td>\n",
              "      <td>Central</td>\n",
              "      <td>72.00</td>\n",
              "      <td>Central</td>\n",
              "      <td>Commerce</td>\n",
              "      <td>65.00</td>\n",
              "      <td>Comm&amp;Mgmt</td>\n",
              "      <td>No</td>\n",
              "      <td>67.0</td>\n",
              "      <td>Mkt&amp;Fin</td>\n",
              "      <td>56.49</td>\n",
              "      <td>Placed</td>\n",
              "      <td>216000.0</td>\n",
              "    </tr>\n",
              "    <tr>\n",
              "      <th>210</th>\n",
              "      <td>211</td>\n",
              "      <td>M</td>\n",
              "      <td>80.60</td>\n",
              "      <td>Others</td>\n",
              "      <td>82.00</td>\n",
              "      <td>Others</td>\n",
              "      <td>Commerce</td>\n",
              "      <td>77.60</td>\n",
              "      <td>Comm&amp;Mgmt</td>\n",
              "      <td>No</td>\n",
              "      <td>91.0</td>\n",
              "      <td>Mkt&amp;Fin</td>\n",
              "      <td>74.49</td>\n",
              "      <td>Placed</td>\n",
              "      <td>400000.0</td>\n",
              "    </tr>\n",
              "    <tr>\n",
              "      <th>211</th>\n",
              "      <td>212</td>\n",
              "      <td>M</td>\n",
              "      <td>58.00</td>\n",
              "      <td>Others</td>\n",
              "      <td>60.00</td>\n",
              "      <td>Others</td>\n",
              "      <td>Science</td>\n",
              "      <td>72.00</td>\n",
              "      <td>Sci&amp;Tech</td>\n",
              "      <td>No</td>\n",
              "      <td>74.0</td>\n",
              "      <td>Mkt&amp;Fin</td>\n",
              "      <td>53.62</td>\n",
              "      <td>Placed</td>\n",
              "      <td>275000.0</td>\n",
              "    </tr>\n",
              "    <tr>\n",
              "      <th>212</th>\n",
              "      <td>213</td>\n",
              "      <td>M</td>\n",
              "      <td>67.00</td>\n",
              "      <td>Others</td>\n",
              "      <td>67.00</td>\n",
              "      <td>Others</td>\n",
              "      <td>Commerce</td>\n",
              "      <td>73.00</td>\n",
              "      <td>Comm&amp;Mgmt</td>\n",
              "      <td>Yes</td>\n",
              "      <td>59.0</td>\n",
              "      <td>Mkt&amp;Fin</td>\n",
              "      <td>69.72</td>\n",
              "      <td>Placed</td>\n",
              "      <td>295000.0</td>\n",
              "    </tr>\n",
              "    <tr>\n",
              "      <th>213</th>\n",
              "      <td>214</td>\n",
              "      <td>F</td>\n",
              "      <td>74.00</td>\n",
              "      <td>Others</td>\n",
              "      <td>66.00</td>\n",
              "      <td>Others</td>\n",
              "      <td>Commerce</td>\n",
              "      <td>58.00</td>\n",
              "      <td>Comm&amp;Mgmt</td>\n",
              "      <td>No</td>\n",
              "      <td>70.0</td>\n",
              "      <td>Mkt&amp;HR</td>\n",
              "      <td>60.23</td>\n",
              "      <td>Placed</td>\n",
              "      <td>204000.0</td>\n",
              "    </tr>\n",
              "  </tbody>\n",
              "</table>\n",
              "<p>148 rows × 15 columns</p>\n",
              "</div>"
            ],
            "text/plain": [
              "     sl_no gender  ssc_p    ssc_b  ...  specialisation  mba_p  status    salary\n",
              "0        1      M  67.00   Others  ...          Mkt&HR  58.80  Placed  270000.0\n",
              "1        2      M  79.33  Central  ...         Mkt&Fin  66.28  Placed  200000.0\n",
              "2        3      M  65.00  Central  ...         Mkt&Fin  57.80  Placed  250000.0\n",
              "4        5      M  85.80  Central  ...         Mkt&Fin  55.50  Placed  425000.0\n",
              "7        8      M  82.00  Central  ...         Mkt&Fin  62.14  Placed  252000.0\n",
              "..     ...    ...    ...      ...  ...             ...    ...     ...       ...\n",
              "209    210      M  62.00  Central  ...         Mkt&Fin  56.49  Placed  216000.0\n",
              "210    211      M  80.60   Others  ...         Mkt&Fin  74.49  Placed  400000.0\n",
              "211    212      M  58.00   Others  ...         Mkt&Fin  53.62  Placed  275000.0\n",
              "212    213      M  67.00   Others  ...         Mkt&Fin  69.72  Placed  295000.0\n",
              "213    214      F  74.00   Others  ...          Mkt&HR  60.23  Placed  204000.0\n",
              "\n",
              "[148 rows x 15 columns]"
            ]
          },
          "metadata": {
            "tags": []
          },
          "execution_count": 17
        }
      ]
    },
    {
      "cell_type": "markdown",
      "metadata": {
        "id": "nWLtDV4eIfnw",
        "colab_type": "text"
      },
      "source": [
        "##Split to Independant and Dependant variables"
      ]
    },
    {
      "cell_type": "code",
      "metadata": {
        "id": "i8oxm8HDJ-tQ",
        "colab_type": "code",
        "colab": {}
      },
      "source": [
        "X_salary = dataset_salary.iloc[:, 1:-2]\n",
        "y_salary = dataset_salary.iloc[:, -1].values"
      ],
      "execution_count": 18,
      "outputs": []
    },
    {
      "cell_type": "code",
      "metadata": {
        "id": "jPNxjy1FOLec",
        "colab_type": "code",
        "colab": {
          "base_uri": "https://localhost:8080/",
          "height": 419
        },
        "outputId": "6126cd7a-8bbd-4511-efd4-87626f58f3b7"
      },
      "source": [
        "X_salary"
      ],
      "execution_count": 19,
      "outputs": [
        {
          "output_type": "execute_result",
          "data": {
            "text/html": [
              "<div>\n",
              "<style scoped>\n",
              "    .dataframe tbody tr th:only-of-type {\n",
              "        vertical-align: middle;\n",
              "    }\n",
              "\n",
              "    .dataframe tbody tr th {\n",
              "        vertical-align: top;\n",
              "    }\n",
              "\n",
              "    .dataframe thead th {\n",
              "        text-align: right;\n",
              "    }\n",
              "</style>\n",
              "<table border=\"1\" class=\"dataframe\">\n",
              "  <thead>\n",
              "    <tr style=\"text-align: right;\">\n",
              "      <th></th>\n",
              "      <th>gender</th>\n",
              "      <th>ssc_p</th>\n",
              "      <th>ssc_b</th>\n",
              "      <th>hsc_p</th>\n",
              "      <th>hsc_b</th>\n",
              "      <th>hsc_s</th>\n",
              "      <th>degree_p</th>\n",
              "      <th>degree_t</th>\n",
              "      <th>workex</th>\n",
              "      <th>etest_p</th>\n",
              "      <th>specialisation</th>\n",
              "      <th>mba_p</th>\n",
              "    </tr>\n",
              "  </thead>\n",
              "  <tbody>\n",
              "    <tr>\n",
              "      <th>0</th>\n",
              "      <td>M</td>\n",
              "      <td>67.00</td>\n",
              "      <td>Others</td>\n",
              "      <td>91.00</td>\n",
              "      <td>Others</td>\n",
              "      <td>Commerce</td>\n",
              "      <td>58.00</td>\n",
              "      <td>Sci&amp;Tech</td>\n",
              "      <td>No</td>\n",
              "      <td>55.0</td>\n",
              "      <td>Mkt&amp;HR</td>\n",
              "      <td>58.80</td>\n",
              "    </tr>\n",
              "    <tr>\n",
              "      <th>1</th>\n",
              "      <td>M</td>\n",
              "      <td>79.33</td>\n",
              "      <td>Central</td>\n",
              "      <td>78.33</td>\n",
              "      <td>Others</td>\n",
              "      <td>Science</td>\n",
              "      <td>77.48</td>\n",
              "      <td>Sci&amp;Tech</td>\n",
              "      <td>Yes</td>\n",
              "      <td>86.5</td>\n",
              "      <td>Mkt&amp;Fin</td>\n",
              "      <td>66.28</td>\n",
              "    </tr>\n",
              "    <tr>\n",
              "      <th>2</th>\n",
              "      <td>M</td>\n",
              "      <td>65.00</td>\n",
              "      <td>Central</td>\n",
              "      <td>68.00</td>\n",
              "      <td>Central</td>\n",
              "      <td>Arts</td>\n",
              "      <td>64.00</td>\n",
              "      <td>Comm&amp;Mgmt</td>\n",
              "      <td>No</td>\n",
              "      <td>75.0</td>\n",
              "      <td>Mkt&amp;Fin</td>\n",
              "      <td>57.80</td>\n",
              "    </tr>\n",
              "    <tr>\n",
              "      <th>4</th>\n",
              "      <td>M</td>\n",
              "      <td>85.80</td>\n",
              "      <td>Central</td>\n",
              "      <td>73.60</td>\n",
              "      <td>Central</td>\n",
              "      <td>Commerce</td>\n",
              "      <td>73.30</td>\n",
              "      <td>Comm&amp;Mgmt</td>\n",
              "      <td>No</td>\n",
              "      <td>96.8</td>\n",
              "      <td>Mkt&amp;Fin</td>\n",
              "      <td>55.50</td>\n",
              "    </tr>\n",
              "    <tr>\n",
              "      <th>7</th>\n",
              "      <td>M</td>\n",
              "      <td>82.00</td>\n",
              "      <td>Central</td>\n",
              "      <td>64.00</td>\n",
              "      <td>Central</td>\n",
              "      <td>Science</td>\n",
              "      <td>66.00</td>\n",
              "      <td>Sci&amp;Tech</td>\n",
              "      <td>Yes</td>\n",
              "      <td>67.0</td>\n",
              "      <td>Mkt&amp;Fin</td>\n",
              "      <td>62.14</td>\n",
              "    </tr>\n",
              "    <tr>\n",
              "      <th>...</th>\n",
              "      <td>...</td>\n",
              "      <td>...</td>\n",
              "      <td>...</td>\n",
              "      <td>...</td>\n",
              "      <td>...</td>\n",
              "      <td>...</td>\n",
              "      <td>...</td>\n",
              "      <td>...</td>\n",
              "      <td>...</td>\n",
              "      <td>...</td>\n",
              "      <td>...</td>\n",
              "      <td>...</td>\n",
              "    </tr>\n",
              "    <tr>\n",
              "      <th>209</th>\n",
              "      <td>M</td>\n",
              "      <td>62.00</td>\n",
              "      <td>Central</td>\n",
              "      <td>72.00</td>\n",
              "      <td>Central</td>\n",
              "      <td>Commerce</td>\n",
              "      <td>65.00</td>\n",
              "      <td>Comm&amp;Mgmt</td>\n",
              "      <td>No</td>\n",
              "      <td>67.0</td>\n",
              "      <td>Mkt&amp;Fin</td>\n",
              "      <td>56.49</td>\n",
              "    </tr>\n",
              "    <tr>\n",
              "      <th>210</th>\n",
              "      <td>M</td>\n",
              "      <td>80.60</td>\n",
              "      <td>Others</td>\n",
              "      <td>82.00</td>\n",
              "      <td>Others</td>\n",
              "      <td>Commerce</td>\n",
              "      <td>77.60</td>\n",
              "      <td>Comm&amp;Mgmt</td>\n",
              "      <td>No</td>\n",
              "      <td>91.0</td>\n",
              "      <td>Mkt&amp;Fin</td>\n",
              "      <td>74.49</td>\n",
              "    </tr>\n",
              "    <tr>\n",
              "      <th>211</th>\n",
              "      <td>M</td>\n",
              "      <td>58.00</td>\n",
              "      <td>Others</td>\n",
              "      <td>60.00</td>\n",
              "      <td>Others</td>\n",
              "      <td>Science</td>\n",
              "      <td>72.00</td>\n",
              "      <td>Sci&amp;Tech</td>\n",
              "      <td>No</td>\n",
              "      <td>74.0</td>\n",
              "      <td>Mkt&amp;Fin</td>\n",
              "      <td>53.62</td>\n",
              "    </tr>\n",
              "    <tr>\n",
              "      <th>212</th>\n",
              "      <td>M</td>\n",
              "      <td>67.00</td>\n",
              "      <td>Others</td>\n",
              "      <td>67.00</td>\n",
              "      <td>Others</td>\n",
              "      <td>Commerce</td>\n",
              "      <td>73.00</td>\n",
              "      <td>Comm&amp;Mgmt</td>\n",
              "      <td>Yes</td>\n",
              "      <td>59.0</td>\n",
              "      <td>Mkt&amp;Fin</td>\n",
              "      <td>69.72</td>\n",
              "    </tr>\n",
              "    <tr>\n",
              "      <th>213</th>\n",
              "      <td>F</td>\n",
              "      <td>74.00</td>\n",
              "      <td>Others</td>\n",
              "      <td>66.00</td>\n",
              "      <td>Others</td>\n",
              "      <td>Commerce</td>\n",
              "      <td>58.00</td>\n",
              "      <td>Comm&amp;Mgmt</td>\n",
              "      <td>No</td>\n",
              "      <td>70.0</td>\n",
              "      <td>Mkt&amp;HR</td>\n",
              "      <td>60.23</td>\n",
              "    </tr>\n",
              "  </tbody>\n",
              "</table>\n",
              "<p>148 rows × 12 columns</p>\n",
              "</div>"
            ],
            "text/plain": [
              "    gender  ssc_p    ssc_b  hsc_p  ... workex etest_p  specialisation  mba_p\n",
              "0        M  67.00   Others  91.00  ...     No    55.0          Mkt&HR  58.80\n",
              "1        M  79.33  Central  78.33  ...    Yes    86.5         Mkt&Fin  66.28\n",
              "2        M  65.00  Central  68.00  ...     No    75.0         Mkt&Fin  57.80\n",
              "4        M  85.80  Central  73.60  ...     No    96.8         Mkt&Fin  55.50\n",
              "7        M  82.00  Central  64.00  ...    Yes    67.0         Mkt&Fin  62.14\n",
              "..     ...    ...      ...    ...  ...    ...     ...             ...    ...\n",
              "209      M  62.00  Central  72.00  ...     No    67.0         Mkt&Fin  56.49\n",
              "210      M  80.60   Others  82.00  ...     No    91.0         Mkt&Fin  74.49\n",
              "211      M  58.00   Others  60.00  ...     No    74.0         Mkt&Fin  53.62\n",
              "212      M  67.00   Others  67.00  ...    Yes    59.0         Mkt&Fin  69.72\n",
              "213      F  74.00   Others  66.00  ...     No    70.0          Mkt&HR  60.23\n",
              "\n",
              "[148 rows x 12 columns]"
            ]
          },
          "metadata": {
            "tags": []
          },
          "execution_count": 19
        }
      ]
    },
    {
      "cell_type": "code",
      "metadata": {
        "id": "FzM3Ah0iOLlE",
        "colab_type": "code",
        "colab": {
          "base_uri": "https://localhost:8080/",
          "height": 391
        },
        "outputId": "ae7d26d4-2aa8-4e6b-d26c-7eea6d6b363f"
      },
      "source": [
        "y_salary"
      ],
      "execution_count": 20,
      "outputs": [
        {
          "output_type": "execute_result",
          "data": {
            "text/plain": [
              "array([270000., 200000., 250000., 425000., 252000., 231000., 260000.,\n",
              "       250000., 218000., 200000., 300000., 236000., 265000., 393000.,\n",
              "       360000., 300000., 360000., 240000., 265000., 350000., 250000.,\n",
              "       278000., 260000., 300000., 320000., 240000., 411000., 287000.,\n",
              "       300000., 200000., 204000., 250000., 200000., 450000., 216000.,\n",
              "       220000., 240000., 360000., 268000., 265000., 260000., 300000.,\n",
              "       240000., 240000., 275000., 275000., 275000., 360000., 240000.,\n",
              "       240000., 218000., 336000., 230000., 500000., 270000., 240000.,\n",
              "       300000., 300000., 300000., 400000., 220000., 210000., 210000.,\n",
              "       300000., 230000., 260000., 420000., 300000., 220000., 380000.,\n",
              "       300000., 240000., 360000., 200000., 300000., 250000., 250000.,\n",
              "       280000., 250000., 216000., 300000., 240000., 276000., 940000.,\n",
              "       250000., 236000., 240000., 250000., 350000., 210000., 250000.,\n",
              "       400000., 250000., 360000., 300000., 250000., 250000., 200000.,\n",
              "       225000., 250000., 220000., 265000., 260000., 300000., 400000.,\n",
              "       233000., 300000., 240000., 690000., 270000., 240000., 340000.,\n",
              "       250000., 255000., 300000., 300000., 285000., 500000., 250000.,\n",
              "       240000., 290000., 300000., 500000., 220000., 650000., 350000.,\n",
              "       265000., 276000., 252000., 280000., 264000., 270000., 300000.,\n",
              "       275000., 250000., 260000., 265000., 300000., 240000., 260000.,\n",
              "       210000., 250000., 300000., 216000., 400000., 275000., 295000.,\n",
              "       204000.])"
            ]
          },
          "metadata": {
            "tags": []
          },
          "execution_count": 20
        }
      ]
    },
    {
      "cell_type": "markdown",
      "metadata": {
        "id": "eshPxud9JEpM",
        "colab_type": "text"
      },
      "source": [
        "##Encoding independent variable"
      ]
    },
    {
      "cell_type": "code",
      "metadata": {
        "id": "qD3Cgax7KFyi",
        "colab_type": "code",
        "colab": {}
      },
      "source": [
        "ct = make_column_transformer(\n",
        "    (StandardScaler(), make_column_selector(dtype_include=np.number)),\n",
        "    (OneHotEncoder(), make_column_selector(dtype_include=object))\n",
        ")\n",
        "\n",
        "X_salary = ct.fit_transform(X_salary)\n",
        "X_salary = np.array(X_salary)"
      ],
      "execution_count": 21,
      "outputs": []
    },
    {
      "cell_type": "code",
      "metadata": {
        "id": "g-nUAWT6OjEo",
        "colab_type": "code",
        "colab": {
          "base_uri": "https://localhost:8080/",
          "height": 34
        },
        "outputId": "95ba8f2a-59c6-455a-e7aa-b87a7681b23b"
      },
      "source": [
        "len(X_salary)"
      ],
      "execution_count": 22,
      "outputs": [
        {
          "output_type": "execute_result",
          "data": {
            "text/plain": [
              "148"
            ]
          },
          "metadata": {
            "tags": []
          },
          "execution_count": 22
        }
      ]
    },
    {
      "cell_type": "markdown",
      "metadata": {
        "id": "Y64NdN0dJNUn",
        "colab_type": "text"
      },
      "source": [
        "##Split to train and test set"
      ]
    },
    {
      "cell_type": "code",
      "metadata": {
        "id": "9GxdV5YCKLSx",
        "colab_type": "code",
        "colab": {}
      },
      "source": [
        "X_salary_train, X_salary_test, y_salary_train, y_salary_test = train_test_split(X_salary,\n",
        "                                                                                y_salary,\n",
        "                                                                                test_size = 0.20)"
      ],
      "execution_count": 23,
      "outputs": []
    },
    {
      "cell_type": "markdown",
      "metadata": {
        "id": "_80uAiL6SHCs",
        "colab_type": "text"
      },
      "source": [
        "##Train a Random Forest Regression Model"
      ]
    },
    {
      "cell_type": "code",
      "metadata": {
        "id": "X73_ickBSGE1",
        "colab_type": "code",
        "colab": {
          "base_uri": "https://localhost:8080/",
          "height": 136
        },
        "outputId": "b6ec3004-233c-4ccc-f406-d12087425cba"
      },
      "source": [
        "from sklearn.ensemble import RandomForestRegressor\n",
        "regressor = RandomForestRegressor(n_estimators = 10)\n",
        "regressor.fit(X_salary_train, y_salary_train)"
      ],
      "execution_count": 31,
      "outputs": [
        {
          "output_type": "execute_result",
          "data": {
            "text/plain": [
              "RandomForestRegressor(bootstrap=True, ccp_alpha=0.0, criterion='mse',\n",
              "                      max_depth=None, max_features='auto', max_leaf_nodes=None,\n",
              "                      max_samples=None, min_impurity_decrease=0.0,\n",
              "                      min_impurity_split=None, min_samples_leaf=1,\n",
              "                      min_samples_split=2, min_weight_fraction_leaf=0.0,\n",
              "                      n_estimators=10, n_jobs=None, oob_score=False,\n",
              "                      random_state=None, verbose=0, warm_start=False)"
            ]
          },
          "metadata": {
            "tags": []
          },
          "execution_count": 31
        }
      ]
    },
    {
      "cell_type": "markdown",
      "metadata": {
        "id": "PDtUAV_7Smeu",
        "colab_type": "text"
      },
      "source": [
        "##Predict based on Random Forest Regression"
      ]
    },
    {
      "cell_type": "code",
      "metadata": {
        "id": "JKvseSD5Skzf",
        "colab_type": "code",
        "colab": {}
      },
      "source": [
        "y_salary_pred = regressor.predict(X_salary_test)"
      ],
      "execution_count": 32,
      "outputs": []
    },
    {
      "cell_type": "markdown",
      "metadata": {
        "id": "mUGtiadbS4J8",
        "colab_type": "text"
      },
      "source": [
        "##Evaluate Random Forest Regression"
      ]
    },
    {
      "cell_type": "code",
      "metadata": {
        "id": "UYPYhPvoULNM",
        "colab_type": "code",
        "colab": {
          "base_uri": "https://localhost:8080/",
          "height": 34
        },
        "outputId": "09b62791-ae15-4077-e487-63171874af08"
      },
      "source": [
        "from sklearn.metrics import r2_score\n",
        "r2_score(y_salary_test, y_salary_pred)"
      ],
      "execution_count": 35,
      "outputs": [
        {
          "output_type": "execute_result",
          "data": {
            "text/plain": [
              "-0.27242313103468563"
            ]
          },
          "metadata": {
            "tags": []
          },
          "execution_count": 35
        }
      ]
    }
  ]
}